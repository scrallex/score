{
 "cells": [
  {
   "cell_type": "markdown",
   "id": "83217a6c",
   "metadata": {},
   "source": [
    "# NOAA Weather Bitstream Prototype\n",
    "\n",
    "This notebook fetches hourly observations from the National Weather Service API, encodes domain-aware weather bits, exports a candle JSON file compatible with the SEP `manifold_generator`, and inspects the resulting coherence/rupture metrics. Configure the station/date below and run the cells sequentially."
   ]
  },
  {
   "cell_type": "markdown",
   "id": "0f84b94a",
   "metadata": {},
   "source": [
    "## 1. Imports and basic configuration\n",
    "\n",
    "Set the station identifier (ICAO), target UTC date, and output directory for intermediate artefacts. The script keeps everything inside `analysis/weather/` by default."
   ]
  },
  {
   "cell_type": "code",
   "execution_count": 1,
   "id": "9a31ccba",
   "metadata": {
    "execution": {
     "iopub.execute_input": "2025-10-01T20:20:57.701533Z",
     "iopub.status.busy": "2025-10-01T20:20:57.701349Z",
     "iopub.status.idle": "2025-10-01T20:20:57.916120Z",
     "shell.execute_reply": "2025-10-01T20:20:57.915735Z"
    }
   },
   "outputs": [
    {
     "name": "stdout",
     "output_type": "stream",
     "text": [
      "Repository root: /workspace/score\n",
      "Output directory: /workspace/score/analysis/weather\n"
     ]
    }
   ],
   "source": [
    "from __future__ import annotations\n",
    "\n",
    "import json\n",
    "import os\n",
    "import subprocess\n",
    "from dataclasses import dataclass\n",
    "from datetime import datetime, timedelta, timezone\n",
    "from pathlib import Path\n",
    "from typing import Any, Dict, Iterable, List\n",
    "\n",
    "import pandas as pd\n",
    "import requests\n",
    "\n",
    "REPO_ROOT = Path.cwd().resolve()\n",
    "if REPO_ROOT.name == \"notebooks\":\n",
    "    REPO_ROOT = REPO_ROOT.parent\n",
    "OUTPUT_ROOT = (REPO_ROOT / \"analysis\" / \"weather\")\n",
    "OUTPUT_ROOT.mkdir(parents=True, exist_ok=True)\n",
    "\n",
    "STATION_ID = os.environ.get(\"NOAA_STATION_ID\", \"KATT\")  # Camp Mabry, Austin\n",
    "TARGET_DATE = os.environ.get(\"NOAA_TARGET_DATE\", \"2025-10-01\")  # UTC date\n",
    "OBS_LIMIT = int(os.environ.get(\"NOAA_OBS_LIMIT\", \"500\"))  # generous upper bound per API request\n",
    "\n",
    "print(f\"Repository root: {REPO_ROOT}\")\n",
    "print(f\"Output directory: {OUTPUT_ROOT}\")\n"
   ]
  },
  {
   "cell_type": "markdown",
   "id": "04bd755d",
   "metadata": {},
   "source": [
    "## 2. NOAA API helpers\n",
    "\n",
    "`fetch_noaa_observations` issues a single request covering the chosen UTC day. The API responds with most-recent-first features, so we sort ascending before returning a tidy `pandas` frame."
   ]
  },
  {
   "cell_type": "code",
   "execution_count": 2,
   "id": "791801de",
   "metadata": {
    "execution": {
     "iopub.execute_input": "2025-10-01T20:20:57.917646Z",
     "iopub.status.busy": "2025-10-01T20:20:57.917470Z",
     "iopub.status.idle": "2025-10-01T20:20:57.922918Z",
     "shell.execute_reply": "2025-10-01T20:20:57.922631Z"
    }
   },
   "outputs": [],
   "source": [
    "USER_AGENT = os.environ.get(\"NOAA_USER_AGENT\", \"SEP Weather Signal Prototype (ops@sepengine.com)\")\n",
    "SESSION = requests.Session()\n",
    "SESSION.headers.update({\n",
    "    \"User-Agent\": USER_AGENT,\n",
    "    \"Accept\": \"application/geo+json\",\n",
    "})\n",
    "\n",
    "API_ROOT = \"https://api.weather.gov\"\n",
    "\n",
    "def utc_bounds(date_str: str) -> tuple[str, str]:\n",
    "    start = datetime.fromisoformat(date_str).replace(tzinfo=timezone.utc)\n",
    "    end = start + timedelta(days=1) - timedelta(milliseconds=1)\n",
    "    return start.isoformat().replace(\"+00:00\", \"Z\"), end.isoformat().replace(\"+00:00\", \"Z\")\n",
    "\n",
    "\n",
    "def fetch_noaa_observations(station: str, date_str: str, limit: int = 1000) -> Dict[str, Any]:\n",
    "    start, end = utc_bounds(date_str)\n",
    "    params = {\n",
    "        \"start\": start,\n",
    "        \"end\": end,\n",
    "        \"limit\": min(limit, 1000),\n",
    "    }\n",
    "    url = f\"{API_ROOT}/stations/{station}/observations\"\n",
    "    resp = SESSION.get(url, params=params, timeout=60)\n",
    "    resp.raise_for_status()\n",
    "    return resp.json()\n",
    "\n",
    "\n",
    "def observations_to_frame(payload: Dict[str, Any]) -> pd.DataFrame:\n",
    "    features = payload.get(\"features\", [])\n",
    "    records: List[Dict[str, Any]] = []\n",
    "    for feat in features:\n",
    "        props = feat.get(\"properties\", {})\n",
    "        timestamp = props.get(\"timestamp\")\n",
    "        if not timestamp:\n",
    "            continue\n",
    "        temp = (props.get(\"temperature\") or {}).get(\"value\")\n",
    "        rh = (props.get(\"relativeHumidity\") or {}).get(\"value\")\n",
    "        pressure = (props.get(\"barometricPressure\") or {}).get(\"value\")\n",
    "        if temp is None or rh is None or pressure is None:\n",
    "            continue\n",
    "        records.append({\n",
    "            \"time\": pd.to_datetime(timestamp),\n",
    "            \"temperature_c\": temp,\n",
    "            \"relative_humidity\": rh,\n",
    "            \"pressure_pa\": pressure,\n",
    "        })\n",
    "    if not records:\n",
    "        raise ValueError(\"No usable observations in payload\")\n",
    "    frame = pd.DataFrame.from_records(records).dropna()\n",
    "    frame = frame.sort_values(\"time\").set_index(\"time\")\n",
    "    frame = frame[~frame.index.duplicated(keep=\"first\")]\n",
    "    return frame\n"
   ]
  },
  {
   "cell_type": "markdown",
   "id": "958f4346",
   "metadata": {},
   "source": [
    "## 3. Fetch & resample observations\n",
    "\n",
    "The raw feed may contain sub-hourly updates. We align on a 60-minute grid using median aggregation and forward-fill to cover minor gaps."
   ]
  },
  {
   "cell_type": "code",
   "execution_count": 3,
   "id": "c991febf",
   "metadata": {
    "execution": {
     "iopub.execute_input": "2025-10-01T20:20:57.924077Z",
     "iopub.status.busy": "2025-10-01T20:20:57.923949Z",
     "iopub.status.idle": "2025-10-01T20:20:58.714268Z",
     "shell.execute_reply": "2025-10-01T20:20:58.713994Z"
    }
   },
   "outputs": [
    {
     "name": "stdout",
     "output_type": "stream",
     "text": [
      "Fetched 260 observations spanning 2025-10-01 00:00:00+00:00 to 2025-10-01 19:55:00+00:00\n",
      "Hourly samples: 20\n"
     ]
    },
    {
     "name": "stderr",
     "output_type": "stream",
     "text": [
      "/tmp/ipykernel_112517/2976463368.py:5: FutureWarning: 'H' is deprecated and will be removed in a future version, please use 'h' instead.\n",
      "  frame_hourly = frame_raw.resample(\"1H\").median().ffill().dropna()\n"
     ]
    },
    {
     "data": {
      "text/html": [
       "<div>\n",
       "<style scoped>\n",
       "    .dataframe tbody tr th:only-of-type {\n",
       "        vertical-align: middle;\n",
       "    }\n",
       "\n",
       "    .dataframe tbody tr th {\n",
       "        vertical-align: top;\n",
       "    }\n",
       "\n",
       "    .dataframe thead th {\n",
       "        text-align: right;\n",
       "    }\n",
       "</style>\n",
       "<table border=\"1\" class=\"dataframe\">\n",
       "  <thead>\n",
       "    <tr style=\"text-align: right;\">\n",
       "      <th></th>\n",
       "      <th>temperature_c</th>\n",
       "      <th>relative_humidity</th>\n",
       "      <th>pressure_pa</th>\n",
       "    </tr>\n",
       "    <tr>\n",
       "      <th>time</th>\n",
       "      <th></th>\n",
       "      <th></th>\n",
       "      <th></th>\n",
       "    </tr>\n",
       "  </thead>\n",
       "  <tbody>\n",
       "    <tr>\n",
       "      <th>2025-10-01 00:00:00+00:00</th>\n",
       "      <td>30.0</td>\n",
       "      <td>42.831581</td>\n",
       "      <td>101388.48</td>\n",
       "    </tr>\n",
       "    <tr>\n",
       "      <th>2025-10-01 01:00:00+00:00</th>\n",
       "      <td>29.0</td>\n",
       "      <td>45.374280</td>\n",
       "      <td>101422.34</td>\n",
       "    </tr>\n",
       "    <tr>\n",
       "      <th>2025-10-01 02:00:00+00:00</th>\n",
       "      <td>28.0</td>\n",
       "      <td>48.088386</td>\n",
       "      <td>101456.20</td>\n",
       "    </tr>\n",
       "    <tr>\n",
       "      <th>2025-10-01 03:00:00+00:00</th>\n",
       "      <td>27.0</td>\n",
       "      <td>54.334416</td>\n",
       "      <td>101490.06</td>\n",
       "    </tr>\n",
       "    <tr>\n",
       "      <th>2025-10-01 04:00:00+00:00</th>\n",
       "      <td>26.0</td>\n",
       "      <td>61.388520</td>\n",
       "      <td>101490.06</td>\n",
       "    </tr>\n",
       "  </tbody>\n",
       "</table>\n",
       "</div>"
      ],
      "text/plain": [
       "                           temperature_c  relative_humidity  pressure_pa\n",
       "time                                                                    \n",
       "2025-10-01 00:00:00+00:00           30.0          42.831581    101388.48\n",
       "2025-10-01 01:00:00+00:00           29.0          45.374280    101422.34\n",
       "2025-10-01 02:00:00+00:00           28.0          48.088386    101456.20\n",
       "2025-10-01 03:00:00+00:00           27.0          54.334416    101490.06\n",
       "2025-10-01 04:00:00+00:00           26.0          61.388520    101490.06"
      ]
     },
     "execution_count": 3,
     "metadata": {},
     "output_type": "execute_result"
    }
   ],
   "source": [
    "payload = fetch_noaa_observations(STATION_ID, TARGET_DATE, limit=OBS_LIMIT)\n",
    "frame_raw = observations_to_frame(payload)\n",
    "print(f\"Fetched {len(frame_raw)} observations spanning {frame_raw.index.min()} to {frame_raw.index.max()}\")\n",
    "\n",
    "frame_hourly = frame_raw.resample(\"1H\").median().ffill().dropna()\n",
    "print(f\"Hourly samples: {len(frame_hourly)}\")\n",
    "frame_hourly.head()\n"
   ]
  },
  {
   "cell_type": "markdown",
   "id": "62009348",
   "metadata": {},
   "source": [
    "## 4. Encode trend bits and composite signal\n",
    "\n",
    "The bits follow the SEP/QFH weather sketch:\n",
    "\n",
    "- Temperature bit = 1 when temperature is non-decreasing.\n",
    "- Humidity bit = 1 when humidity is non-decreasing.\n",
    "- Pressure bit = 1 when pressure is falling.\n",
    "- Composite bit = majority vote across the three trends."
   ]
  },
  {
   "cell_type": "code",
   "execution_count": 4,
   "id": "5fae68ee",
   "metadata": {
    "execution": {
     "iopub.execute_input": "2025-10-01T20:20:58.715587Z",
     "iopub.status.busy": "2025-10-01T20:20:58.715428Z",
     "iopub.status.idle": "2025-10-01T20:20:58.722798Z",
     "shell.execute_reply": "2025-10-01T20:20:58.722517Z"
    }
   },
   "outputs": [
    {
     "name": "stdout",
     "output_type": "stream",
     "text": [
      "                           temp_bit  hum_bit  press_bit  composite_bit\n",
      "time                                                                  \n",
      "2025-10-01 15:00:00+00:00         1        0          0              0\n",
      "2025-10-01 16:00:00+00:00         1        0          0              0\n",
      "2025-10-01 17:00:00+00:00         1        0          1              1\n",
      "2025-10-01 18:00:00+00:00         1        0          1              1\n",
      "2025-10-01 19:00:00+00:00         1        0          1              1\n",
      "Composite bits: [0, 0, 0, 0, 0, 0, 0, 0, 1, 0, 1, 1, 1, 1, 0, 0, 0, 1, 1, 1]\n"
     ]
    }
   ],
   "source": [
    "def compute_bits(frame: pd.DataFrame) -> pd.DataFrame:\n",
    "    df = frame.copy()\n",
    "    df[\"temp_bit\"] = (df[\"temperature_c\"] >= df[\"temperature_c\"].shift(1)).astype(int)\n",
    "    df[\"hum_bit\"] = (df[\"relative_humidity\"] >= df[\"relative_humidity\"].shift(1)).astype(int)\n",
    "    df[\"press_bit\"] = (df[\"pressure_pa\"] < df[\"pressure_pa\"].shift(1)).astype(int)\n",
    "    df[\"composite_bit\"] = (df[[\"temp_bit\", \"hum_bit\", \"press_bit\"]].sum(axis=1) >= 2).astype(int)\n",
    "    df = df.dropna()\n",
    "    return df\n",
    "\n",
    "bits_frame = compute_bits(frame_hourly)\n",
    "print(bits_frame[[\"temp_bit\", \"hum_bit\", \"press_bit\", \"composite_bit\"]].tail())\n",
    "print(f\"Composite bits: {bits_frame['composite_bit'].tolist()}\")"
   ]
  },
  {
   "cell_type": "markdown",
   "id": "54992c92",
   "metadata": {},
   "source": [
    "## 5. Convert composite bits into candle JSON\n",
    "\n",
    "`manifold_generator` expects OHLCV candles. We synthesise candles where price moves up when the composite bit is 1 and down otherwise, with monotonically increasing volume to keep the derived QFH bit aligned with the composite sequence."
   ]
  },
  {
   "cell_type": "code",
   "execution_count": 5,
   "id": "fd648421",
   "metadata": {
    "execution": {
     "iopub.execute_input": "2025-10-01T20:20:58.723990Z",
     "iopub.status.busy": "2025-10-01T20:20:58.723854Z",
     "iopub.status.idle": "2025-10-01T20:20:58.730135Z",
     "shell.execute_reply": "2025-10-01T20:20:58.729850Z"
    }
   },
   "outputs": [
    {
     "name": "stdout",
     "output_type": "stream",
     "text": [
      "Generated 21 candles\n",
      "Candles written to /workspace/score/analysis/weather/KHOU_2025-10-01.candles.json\n"
     ]
    },
    {
     "data": {
      "text/plain": [
       "[{'timestamp': 1759273200000,\n",
       "  'open': 0.0,\n",
       "  'high': 0.1,\n",
       "  'low': -0.1,\n",
       "  'close': 0.0,\n",
       "  'volume': 1000.0},\n",
       " {'timestamp': 1759276800000,\n",
       "  'open': 0.0,\n",
       "  'high': 0.05,\n",
       "  'low': -1.05,\n",
       "  'close': -1.0,\n",
       "  'volume': 1001.0},\n",
       " {'timestamp': 1759280400000,\n",
       "  'open': -1.0,\n",
       "  'high': -0.95,\n",
       "  'low': -2.05,\n",
       "  'close': -2.0,\n",
       "  'volume': 1002.0}]"
      ]
     },
     "execution_count": 5,
     "metadata": {},
     "output_type": "execute_result"
    }
   ],
   "source": [
    "def bits_to_candles(bits_df: pd.DataFrame, base_value: float = 0.0) -> List[Dict[str, Any]]:\n",
    "    candles: List[Dict[str, Any]] = []\n",
    "    if bits_df.empty:\n",
    "        return candles\n",
    "    first_time = bits_df.index[0] - timedelta(hours=1)\n",
    "    prev_close = base_value\n",
    "    prev_volume = 1000.0\n",
    "    candles.append({\n",
    "        \"timestamp\": int(first_time.timestamp() * 1000),\n",
    "        \"open\": prev_close,\n",
    "        \"high\": prev_close + 0.1,\n",
    "        \"low\": prev_close - 0.1,\n",
    "        \"close\": prev_close,\n",
    "        \"volume\": prev_volume,\n",
    "    })\n",
    "\n",
    "    for ts, row in bits_df.iterrows():\n",
    "        bit = int(row[\"composite_bit\"])\n",
    "        open_price = prev_close\n",
    "        delta = 1.0 if bit == 1 else -1.0\n",
    "        close_price = open_price + delta\n",
    "        high = max(open_price, close_price) + 0.05\n",
    "        low = min(open_price, close_price) - 0.05\n",
    "        prev_volume += 1.0\n",
    "        candle = {\n",
    "            \"timestamp\": int(ts.timestamp() * 1000),\n",
    "            \"open\": float(open_price),\n",
    "            \"high\": float(high),\n",
    "            \"low\": float(low),\n",
    "            \"close\": float(close_price),\n",
    "            \"volume\": float(prev_volume),\n",
    "        }\n",
    "        candles.append(candle)\n",
    "        prev_close = close_price\n",
    "    return candles\n",
    "\n",
    "candles = bits_to_candles(bits_frame)\n",
    "print(f\"Generated {len(candles)} candles\")\n",
    "\n",
    "candle_path = OUTPUT_ROOT / f\"{STATION_ID}_{TARGET_DATE}.candles.json\"\n",
    "with candle_path.open(\"w\", encoding=\"utf-8\") as handle:\n",
    "    json.dump(candles, handle, indent=2)\n",
    "\n",
    "print(f\"Candles written to {candle_path}\")\n",
    "\n",
    "candles[:3]\n"
   ]
  },
  {
   "cell_type": "markdown",
   "id": "f6c94250",
   "metadata": {},
   "source": [
    "## 6. Run the native manifold generator\n",
    "\n",
    "We invoke the compiled `bin/manifold_generator`, pointing it at the candle JSON. The command writes a manifold snapshot for inspection."
   ]
  },
  {
   "cell_type": "code",
   "execution_count": 6,
   "id": "bd708379",
   "metadata": {
    "execution": {
     "iopub.execute_input": "2025-10-01T20:20:58.731765Z",
     "iopub.status.busy": "2025-10-01T20:20:58.731636Z",
     "iopub.status.idle": "2025-10-01T20:20:58.737509Z",
     "shell.execute_reply": "2025-10-01T20:20:58.737194Z"
    }
   },
   "outputs": [
    {
     "name": "stdout",
     "output_type": "stream",
     "text": [
      "Running: /workspace/score/bin/manifold_generator --input /workspace/score/analysis/weather/KHOU_2025-10-01.candles.json --output /workspace/score/analysis/weather/KHOU_2025-10-01.manifold.json\n",
      "stdout: [2025-10-01 15:20:58.735] [info] Wrote manifold JSON to /workspace/score/analysis/weather/KHOU_2025-10-01.manifold.json\n",
      "\n",
      "stderr: \n",
      "Manifold stored at /workspace/score/analysis/weather/KHOU_2025-10-01.manifold.json\n"
     ]
    }
   ],
   "source": [
    "manifold_path = OUTPUT_ROOT / f\"{STATION_ID}_{TARGET_DATE}.manifold.json\"\n",
    "cmd = [str(REPO_ROOT / \"bin\" / \"manifold_generator\"), \"--input\", str(candle_path), \"--output\", str(manifold_path)]\n",
    "print(\"Running:\", \" \".join(cmd))\n",
    "result = subprocess.run(cmd, check=False, capture_output=True, text=True)\n",
    "print(\"stdout:\", result.stdout)\n",
    "print(\"stderr:\", result.stderr)\n",
    "if result.returncode != 0:\n",
    "    raise RuntimeError(f\"manifold_generator failed with exit code {result.returncode}\")\n",
    "print(f\"Manifold stored at {manifold_path}\")\n"
   ]
  },
  {
   "cell_type": "markdown",
   "id": "6dc4849f",
   "metadata": {},
   "source": [
    "## 7. Inspect λ / rupture metrics\n",
    "\n",
    "Load the manifold JSON and examine the most recent signal to confirm hazard values respond to the composite bit flips."
   ]
  },
  {
   "cell_type": "code",
   "execution_count": 7,
   "id": "51874079",
   "metadata": {
    "execution": {
     "iopub.execute_input": "2025-10-01T20:20:58.738753Z",
     "iopub.status.busy": "2025-10-01T20:20:58.738615Z",
     "iopub.status.idle": "2025-10-01T20:20:58.742874Z",
     "shell.execute_reply": "2025-10-01T20:20:58.742604Z"
    }
   },
   "outputs": [
    {
     "name": "stdout",
     "output_type": "stream",
     "text": [
      "Signal count: 9\n"
     ]
    },
    {
     "data": {
      "text/plain": [
       "{'timestamp_ns': 1759305600000000000,\n",
       " 'signature': 'c0.22_s0.55_e0.94',\n",
       " 'coherence': 0.2229540227861495,\n",
       " 'stability': 0.5454545319080353,\n",
       " 'entropy': 0.9431664272954218,\n",
       " 'rupture': 0.4545454680919647,\n",
       " 'lambda_hazard': 0.4545454680919647,\n",
       " 'count_1h': 1}"
      ]
     },
     "metadata": {},
     "output_type": "display_data"
    }
   ],
   "source": [
    "with manifold_path.open(\"r\", encoding=\"utf-8\") as handle:\n",
    "    manifold = json.load(handle)\n",
    "\n",
    "signals = manifold.get(\"signals\", [])\n",
    "print(f\"Signal count: {len(signals)}\")\n",
    "\n",
    "if signals:\n",
    "    last = signals[-1]\n",
    "    metrics = last.get(\"metrics\", {})\n",
    "    display({\n",
    "        \"timestamp_ns\": last.get(\"timestamp_ns\"),\n",
    "        \"signature\": last.get(\"repetition\", {}).get(\"signature\"),\n",
    "        \"coherence\": metrics.get(\"coherence\"),\n",
    "        \"stability\": metrics.get(\"stability\"),\n",
    "        \"entropy\": metrics.get(\"entropy\"),\n",
    "        \"rupture\": metrics.get(\"rupture\"),\n",
    "        \"lambda_hazard\": last.get(\"lambda_hazard\", metrics.get(\"rupture\")),\n",
    "        \"count_1h\": last.get(\"repetition\", {}).get(\"count_1h\"),\n",
    "    })\n",
    "else:\n",
    "    print(\"No signals emitted. Check the candle payload length.\")"
   ]
  },
  {
   "cell_type": "markdown",
   "id": "c8dbe02a",
   "metadata": {},
   "source": [
    "## 8. Optional: plot composite bits vs hazard\n",
    "\n",
    "Visualise the composite bit timeline alongside rupture/λ to spot transitions."
   ]
  },
  {
   "cell_type": "code",
   "execution_count": 8,
   "id": "b90bdcc8",
   "metadata": {
    "execution": {
     "iopub.execute_input": "2025-10-01T20:20:58.744056Z",
     "iopub.status.busy": "2025-10-01T20:20:58.743916Z",
     "iopub.status.idle": "2025-10-01T20:20:59.296786Z",
     "shell.execute_reply": "2025-10-01T20:20:59.296408Z"
    }
   },
   "outputs": [
    {
     "name": "stdout",
     "output_type": "stream",
     "text": [
      "Saved plot to /workspace/score/analysis/weather/KHOU_2025-10-01_lambda.png\n"
     ]
    },
    {
     "data": {
      "image/png": "[encoded data removed]",
      "text/plain": [
       "<Figure size 1000x400 with 2 Axes>"
      ]
     },
     "metadata": {},
     "output_type": "display_data"
    }
   ],
   "source": [
    "import matplotlib.pyplot as plt\n",
    "\n",
    "if signals:\n",
    "    signal_frame = pd.DataFrame([{**sig.get(\"metrics\", {}), \"lambda_hazard\": sig.get(\"lambda_hazard\"), \"timestamp_ns\": sig.get(\"timestamp_ns\")}\n",
    "                                 for sig in signals])\n",
    "    signal_frame[\"timestamp\"] = pd.to_datetime(signal_frame[\"timestamp_ns\"], unit=\"ns\", utc=True)\n",
    "    merged = bits_frame.reset_index()\n",
    "    timestamp_col = merged.columns[0]\n",
    "    merged = merged.rename(columns={timestamp_col: \"timestamp\"})\n",
    "    merged[\"timestamp\"] = pd.to_datetime(merged[\"timestamp\"], utc=True)\n",
    "    fig, ax1 = plt.subplots(figsize=(10, 4))\n",
    "    ax1.step(merged[\"timestamp\"], merged[\"composite_bit\"], where=\"post\", label=\"Composite Bit\", color=\"tab:blue\")\n",
    "    ax1.set_ylabel(\"Composite Bit\", color=\"tab:blue\")\n",
    "    ax1.set_ylim(-0.1, 1.1)\n",
    "    ax2 = ax1.twinx()\n",
    "    ax2.plot(signal_frame[\"timestamp\"], signal_frame[\"lambda_hazard\"], marker=\"o\", label=\"λ\", color=\"tab:red\")\n",
    "    ax2.set_ylabel(\"λ / rupture\", color=\"tab:red\")\n",
    "    ax2.set_ylim(0, 1)\n",
    "    fig.autofmt_xdate()\n",
    "    fig.tight_layout()\n",
    "    plot_path = OUTPUT_ROOT / f\"{STATION_ID}_{TARGET_DATE}_lambda.png\"\n",
    "    fig.savefig(plot_path, dpi=150, bbox_inches=\"tight\")\n",
    "    print(f\"Saved plot to {plot_path}\")\n",
    "    plt.show()\n",
    "else:\n",
    "    print(\"Skipping plot—no manifold signals available.\")\n"
   ]
  }
 ],
 "metadata": {
  "kernelspec": {
   "display_name": "Python 3",
   "language": "python",
   "name": "python3"
  },
  "language_info": {
   "codemirror_mode": {
    "name": "ipython",
    "version": 3
   },
   "file_extension": ".py",
   "mimetype": "text/x-python",
   "name": "python",
   "nbconvert_exporter": "python",
   "pygments_lexer": "ipython3",
   "version": "3.13.7"
  }
 },
 "nbformat": 4,
 "nbformat_minor": 5
}
